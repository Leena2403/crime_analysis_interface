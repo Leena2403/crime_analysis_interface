{
 "cells": [
  {
   "cell_type": "code",
   "execution_count": 7,
   "id": "b5f9e24c",
   "metadata": {},
   "outputs": [],
   "source": [
    "#This is being created by Souryadeepta Majumdar (Team Data Dragons)\n",
    "#This is a part of code used by Team Data Dragons for Karnataka State Police Datathon 2.0\n",
    "\n",
    "import pandas as pd #For Datasets and DataBase Management\n",
    "import folium #For creation of map\n",
    "from folium.plugins import HeatMap #used for imposing heatmap on the map created"
   ]
  },
  {
   "cell_type": "code",
   "execution_count": null,
   "id": "027d13c3",
   "metadata": {},
   "outputs": [],
   "source": [
    "#Currently the program is using a dataset for all the services.\n",
    "#However, once a more dynamic and vast dataset is available; we can easily link it to API services and reduce the space complexity of the code, hence enhancing the flexibility to a greater extent\n",
    "\n",
    "# Reading the dataset using pandas\n",
    "data = pd.read_csv(\"Dataset/Distric Wise Crimes against Women in Karnataka.csv\")\n",
    "data.dropna(inplace=True)"
   ]
  },
  {
   "cell_type": "code",
   "execution_count": null,
   "id": "03bcf6b8",
   "metadata": {},
   "outputs": [],
   "source": [
    "# Function to map weight values to colors in the VIBGYOR spectrum\n",
    "def map_weight_to_color(weight):\n",
    "    \n",
    "    # Normalizing the weight values between 0 and 1\n",
    "    normalized_weight = (weight - data['Rape'].min()) / (data['Rape'].max() - data['Rape'].min())\n",
    "    \n",
    "    # Map normalized weight to a color in the VIBGYOR spectrum\n",
    "    color = 'rgb({}, {}, {})'.format(int(255 * normalized_weight), 0, int(255 * (1 - normalized_weight)))\n",
    "    return color\n"
   ]
  },
  {
   "cell_type": "code",
   "execution_count": null,
   "id": "496a09ac",
   "metadata": {},
   "outputs": [],
   "source": [
    "# Creating a Folium map centered on Karnataka\n",
    "m = folium.Map(location=[15.3173,75.7139], zoom_start=10)\n",
    "\n",
    "# Adding a heatmap layer using the weight column from the dataset and mapping the weight values to colors\n",
    "heatmap_layer = HeatMap(data[['Latitude', 'Longitude', 'Rape']].values.tolist(), \n",
    "                        radius=10, blur=5, max_zoom=13, gradient={0.0: 'violet', 1.0: 'red'})\n",
    "m.add_child(heatmap_layer)\n",
    "\n",
    "# Saving the map as an HTML file\n",
    "m.save('heat.html')"
   ]
  }
 ],
 "metadata": {
  "kernelspec": {
   "display_name": "Python 3 (ipykernel)",
   "language": "python",
   "name": "python3"
  },
  "language_info": {
   "codemirror_mode": {
    "name": "ipython",
    "version": 3
   },
   "file_extension": ".py",
   "mimetype": "text/x-python",
   "name": "python",
   "nbconvert_exporter": "python",
   "pygments_lexer": "ipython3",
   "version": "3.11.5"
  }
 },
 "nbformat": 4,
 "nbformat_minor": 5
}
